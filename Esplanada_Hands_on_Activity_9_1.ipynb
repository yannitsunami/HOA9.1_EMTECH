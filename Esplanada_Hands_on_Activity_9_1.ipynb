{
  "nbformat": 4,
  "nbformat_minor": 0,
  "metadata": {
    "colab": {
      "provenance": []
    },
    "kernelspec": {
      "name": "python3",
      "display_name": "Python 3"
    },
    "language_info": {
      "name": "python"
    },
    "accelerator": "GPU",
    "gpuClass": "standard"
  },
  "cells": [
    {
      "cell_type": "markdown",
      "source": [
        "Name: Esplanada, Borris\n",
        "\n",
        "Section: CPE32S1"
      ],
      "metadata": {
        "id": "QMAxVvMB-L0x"
      }
    },
    {
      "cell_type": "markdown",
      "source": [
        "Instructions:\n",
        "\n",
        "1. Choose any dataset applicable to an image classification problem\n",
        "2. Explain your datasets and the problem being addressed.\n",
        "3. Show evidence that you can do the following:\n",
        "  - Using your dataset, create a baseline model of the CNN\n",
        "  - Perform image augmentation\n",
        "  - Perform feature standardization\n",
        "  - Perform ZCA whitening of your images\n",
        "  - Augment data with random rotations, shifts, and flips\n",
        "  - Save augmented image data to disk\n",
        "  - Develop a test harness to develop a robust evaluation of a model and establish a baseline of performance for a classification task\n",
        "  - Explore extensions to a baseline model to improve learning and model capacity.\n",
        "  - Develop a finalized model, evaluate the performance of the final model, and use it to make predictions on new images.\n",
        "4. Submit the link to your Google Colab (make sure that it is accessible to me) and the link to your dataset/s\n",
        "\n",
        "NOTE:\n",
        "- Submit a well-prepared notebook for your report\n",
        "- Include conclusion or learning"
      ],
      "metadata": {
        "id": "NBy7mmvY-Nix"
      }
    },
    {
      "cell_type": "markdown",
      "source": [
        "1. Choose any dataset applicable to an image classification problem\n",
        "\n",
        "    Dataset Title: The Microsoft Cats vs. Dogs dataset\n",
        "\n",
        "    Link: https://www.kaggle.com/datasets/shaunthesheep/microsoft-catsvsdogs-dataset?resource=download"
      ],
      "metadata": {
        "id": "ro-X0QQW-3LJ"
      }
    },
    {
      "cell_type": "markdown",
      "source": [
        "2. Explain your datasets and the problem being addressed.\n",
        "\n",
        "- The Microsoft Cats vs. Dogs dataset, available on Kaggle, is a collection of images of cats and dogs that have been labeled as either a cat or a dog. The dataset contains a total of 25,000 images, with 12,500 images of cats and 12,500 images of dogs. The problem being addressed with this dataset is image classification, specifically distinguishing between images of cats and dogs. This is a well-known and challenging computer vision problem that has many practical applications, such as in animal identification, surveillance, and medical imaging."
      ],
      "metadata": {
        "id": "d8mrdCap_YRI"
      }
    },
    {
      "cell_type": "markdown",
      "source": [
        "3. Show evidence that you can do the following:\n",
        "  - Using your dataset, create a baseline model of the CNN\n",
        "  - Perform image augmentation\n",
        "  - Perform feature standardization\n",
        "  - Perform ZCA whitening of your images\n",
        "  - Augment data with random rotations, shifts, and flips\n",
        "  - Save augmented image data to disk\n",
        "  - Develop a test harness to develop a robust evaluation of a model and establish a baseline of performance for a classification task\n",
        "  - Explore extensions to a baseline model to improve learning and model capacity.\n",
        "  - Develop a finalized model, evaluate the performance of the final model, and use it to make predictions on new images."
      ],
      "metadata": {
        "id": "XfpJoYhpAoAo"
      }
    },
    {
      "cell_type": "code",
      "source": [
        "\"\"\"\n",
        "Importing required data from kaggle\n",
        "\"\"\"\n",
        "import os\n",
        "from google.colab import files\n",
        "!pip install kaggle\n",
        "files.upload()\n",
        "\n",
        "!mkdir ~/.kaggle/\n",
        "!cp kaggle.json ~/.kaggle/\n",
        "!chmod 600 ~/.kaggle/kaggle.json\n",
        "!kaggle datasets list\n",
        "\n",
        "!mkdir datasets\n",
        "!cd datasets\n",
        "!kaggle datasets download -d ifeanyinneji/nike-adidas-shoes-for-image-classification-dataset\n",
        "!unzip nike-adidas-shoes-for-image-classification-dataset.zip -d datasets\n",
        "!mkdir aug-train\n",
        "!mkdir aug-val\n",
        "\n",
        "# Local Runtime\n",
        "os.chdir(\"./datasets\")"
      ],
      "metadata": {
        "colab": {
          "base_uri": "https://localhost:8080/"
        },
        "id": "c6OztbuWct_w",
        "outputId": "d2194061-acd4-470a-dc8f-b1b3cddb710b"
      },
      "execution_count": null,
      "outputs": [
        {
          "output_type": "stream",
          "name": "stdout",
          "text": [
            "Requirement already satisfied: kaggle in /usr/local/lib/python3.10/dist-packages (1.5.16)\n",
            "Requirement already satisfied: six>=1.10 in /usr/local/lib/python3.10/dist-packages (from kaggle) (1.16.0)\n",
            "Requirement already satisfied: certifi in /usr/local/lib/python3.10/dist-packages (from kaggle) (2024.2.2)\n",
            "Requirement already satisfied: python-dateutil in /usr/local/lib/python3.10/dist-packages (from kaggle) (2.8.2)\n",
            "Requirement already satisfied: requests in /usr/local/lib/python3.10/dist-packages (from kaggle) (2.31.0)\n",
            "Requirement already satisfied: tqdm in /usr/local/lib/python3.10/dist-packages (from kaggle) (4.66.2)\n",
            "Requirement already satisfied: python-slugify in /usr/local/lib/python3.10/dist-packages (from kaggle) (8.0.4)\n",
            "Requirement already satisfied: urllib3 in /usr/local/lib/python3.10/dist-packages (from kaggle) (2.0.7)\n",
            "Requirement already satisfied: bleach in /usr/local/lib/python3.10/dist-packages (from kaggle) (6.1.0)\n",
            "Requirement already satisfied: webencodings in /usr/local/lib/python3.10/dist-packages (from bleach->kaggle) (0.5.1)\n",
            "Requirement already satisfied: text-unidecode>=1.3 in /usr/local/lib/python3.10/dist-packages (from python-slugify->kaggle) (1.3)\n",
            "Requirement already satisfied: charset-normalizer<4,>=2 in /usr/local/lib/python3.10/dist-packages (from requests->kaggle) (3.3.2)\n",
            "Requirement already satisfied: idna<4,>=2.5 in /usr/local/lib/python3.10/dist-packages (from requests->kaggle) (3.7)\n"
          ]
        },
        {
          "output_type": "display_data",
          "data": {
            "text/plain": [
              "<IPython.core.display.HTML object>"
            ],
            "text/html": [
              "\n",
              "     <input type=\"file\" id=\"files-7cfc7f3c-534e-4c32-a87b-b3431a5a5123\" name=\"files[]\" multiple disabled\n",
              "        style=\"border:none\" />\n",
              "     <output id=\"result-7cfc7f3c-534e-4c32-a87b-b3431a5a5123\">\n",
              "      Upload widget is only available when the cell has been executed in the\n",
              "      current browser session. Please rerun this cell to enable.\n",
              "      </output>\n",
              "      <script>// Copyright 2017 Google LLC\n",
              "//\n",
              "// Licensed under the Apache License, Version 2.0 (the \"License\");\n",
              "// you may not use this file except in compliance with the License.\n",
              "// You may obtain a copy of the License at\n",
              "//\n",
              "//      http://www.apache.org/licenses/LICENSE-2.0\n",
              "//\n",
              "// Unless required by applicable law or agreed to in writing, software\n",
              "// distributed under the License is distributed on an \"AS IS\" BASIS,\n",
              "// WITHOUT WARRANTIES OR CONDITIONS OF ANY KIND, either express or implied.\n",
              "// See the License for the specific language governing permissions and\n",
              "// limitations under the License.\n",
              "\n",
              "/**\n",
              " * @fileoverview Helpers for google.colab Python module.\n",
              " */\n",
              "(function(scope) {\n",
              "function span(text, styleAttributes = {}) {\n",
              "  const element = document.createElement('span');\n",
              "  element.textContent = text;\n",
              "  for (const key of Object.keys(styleAttributes)) {\n",
              "    element.style[key] = styleAttributes[key];\n",
              "  }\n",
              "  return element;\n",
              "}\n",
              "\n",
              "// Max number of bytes which will be uploaded at a time.\n",
              "const MAX_PAYLOAD_SIZE = 100 * 1024;\n",
              "\n",
              "function _uploadFiles(inputId, outputId) {\n",
              "  const steps = uploadFilesStep(inputId, outputId);\n",
              "  const outputElement = document.getElementById(outputId);\n",
              "  // Cache steps on the outputElement to make it available for the next call\n",
              "  // to uploadFilesContinue from Python.\n",
              "  outputElement.steps = steps;\n",
              "\n",
              "  return _uploadFilesContinue(outputId);\n",
              "}\n",
              "\n",
              "// This is roughly an async generator (not supported in the browser yet),\n",
              "// where there are multiple asynchronous steps and the Python side is going\n",
              "// to poll for completion of each step.\n",
              "// This uses a Promise to block the python side on completion of each step,\n",
              "// then passes the result of the previous step as the input to the next step.\n",
              "function _uploadFilesContinue(outputId) {\n",
              "  const outputElement = document.getElementById(outputId);\n",
              "  const steps = outputElement.steps;\n",
              "\n",
              "  const next = steps.next(outputElement.lastPromiseValue);\n",
              "  return Promise.resolve(next.value.promise).then((value) => {\n",
              "    // Cache the last promise value to make it available to the next\n",
              "    // step of the generator.\n",
              "    outputElement.lastPromiseValue = value;\n",
              "    return next.value.response;\n",
              "  });\n",
              "}\n",
              "\n",
              "/**\n",
              " * Generator function which is called between each async step of the upload\n",
              " * process.\n",
              " * @param {string} inputId Element ID of the input file picker element.\n",
              " * @param {string} outputId Element ID of the output display.\n",
              " * @return {!Iterable<!Object>} Iterable of next steps.\n",
              " */\n",
              "function* uploadFilesStep(inputId, outputId) {\n",
              "  const inputElement = document.getElementById(inputId);\n",
              "  inputElement.disabled = false;\n",
              "\n",
              "  const outputElement = document.getElementById(outputId);\n",
              "  outputElement.innerHTML = '';\n",
              "\n",
              "  const pickedPromise = new Promise((resolve) => {\n",
              "    inputElement.addEventListener('change', (e) => {\n",
              "      resolve(e.target.files);\n",
              "    });\n",
              "  });\n",
              "\n",
              "  const cancel = document.createElement('button');\n",
              "  inputElement.parentElement.appendChild(cancel);\n",
              "  cancel.textContent = 'Cancel upload';\n",
              "  const cancelPromise = new Promise((resolve) => {\n",
              "    cancel.onclick = () => {\n",
              "      resolve(null);\n",
              "    };\n",
              "  });\n",
              "\n",
              "  // Wait for the user to pick the files.\n",
              "  const files = yield {\n",
              "    promise: Promise.race([pickedPromise, cancelPromise]),\n",
              "    response: {\n",
              "      action: 'starting',\n",
              "    }\n",
              "  };\n",
              "\n",
              "  cancel.remove();\n",
              "\n",
              "  // Disable the input element since further picks are not allowed.\n",
              "  inputElement.disabled = true;\n",
              "\n",
              "  if (!files) {\n",
              "    return {\n",
              "      response: {\n",
              "        action: 'complete',\n",
              "      }\n",
              "    };\n",
              "  }\n",
              "\n",
              "  for (const file of files) {\n",
              "    const li = document.createElement('li');\n",
              "    li.append(span(file.name, {fontWeight: 'bold'}));\n",
              "    li.append(span(\n",
              "        `(${file.type || 'n/a'}) - ${file.size} bytes, ` +\n",
              "        `last modified: ${\n",
              "            file.lastModifiedDate ? file.lastModifiedDate.toLocaleDateString() :\n",
              "                                    'n/a'} - `));\n",
              "    const percent = span('0% done');\n",
              "    li.appendChild(percent);\n",
              "\n",
              "    outputElement.appendChild(li);\n",
              "\n",
              "    const fileDataPromise = new Promise((resolve) => {\n",
              "      const reader = new FileReader();\n",
              "      reader.onload = (e) => {\n",
              "        resolve(e.target.result);\n",
              "      };\n",
              "      reader.readAsArrayBuffer(file);\n",
              "    });\n",
              "    // Wait for the data to be ready.\n",
              "    let fileData = yield {\n",
              "      promise: fileDataPromise,\n",
              "      response: {\n",
              "        action: 'continue',\n",
              "      }\n",
              "    };\n",
              "\n",
              "    // Use a chunked sending to avoid message size limits. See b/62115660.\n",
              "    let position = 0;\n",
              "    do {\n",
              "      const length = Math.min(fileData.byteLength - position, MAX_PAYLOAD_SIZE);\n",
              "      const chunk = new Uint8Array(fileData, position, length);\n",
              "      position += length;\n",
              "\n",
              "      const base64 = btoa(String.fromCharCode.apply(null, chunk));\n",
              "      yield {\n",
              "        response: {\n",
              "          action: 'append',\n",
              "          file: file.name,\n",
              "          data: base64,\n",
              "        },\n",
              "      };\n",
              "\n",
              "      let percentDone = fileData.byteLength === 0 ?\n",
              "          100 :\n",
              "          Math.round((position / fileData.byteLength) * 100);\n",
              "      percent.textContent = `${percentDone}% done`;\n",
              "\n",
              "    } while (position < fileData.byteLength);\n",
              "  }\n",
              "\n",
              "  // All done.\n",
              "  yield {\n",
              "    response: {\n",
              "      action: 'complete',\n",
              "    }\n",
              "  };\n",
              "}\n",
              "\n",
              "scope.google = scope.google || {};\n",
              "scope.google.colab = scope.google.colab || {};\n",
              "scope.google.colab._files = {\n",
              "  _uploadFiles,\n",
              "  _uploadFilesContinue,\n",
              "};\n",
              "})(self);\n",
              "</script> "
            ]
          },
          "metadata": {}
        }
      ]
    },
    {
      "cell_type": "code",
      "source": [
        "import numpy as np\n",
        "import pandas as pd"
      ],
      "metadata": {
        "id": "1snoVcvshEkJ"
      },
      "execution_count": null,
      "outputs": []
    },
    {
      "cell_type": "code",
      "source": [
        "path = \"./datasets\"\n",
        "# Load Dataset\n",
        "df = path"
      ],
      "metadata": {
        "id": "YAeguqd4_QsB"
      },
      "execution_count": null,
      "outputs": []
    },
    {
      "cell_type": "markdown",
      "source": [
        "2. Show evidence that you can do the following:\n"
      ],
      "metadata": {
        "id": "wXs1WrBT19bk"
      }
    },
    {
      "cell_type": "markdown",
      "source": [
        "- Using your dataset, create a baseline model of the CNN"
      ],
      "metadata": {
        "id": "6vomi4cy2FHd"
      }
    },
    {
      "cell_type": "markdown",
      "source": [
        "- Perform image augmentation"
      ],
      "metadata": {
        "id": "HFdP18jj5rXm"
      }
    },
    {
      "cell_type": "markdown",
      "source": [
        "- Perform feature standardization"
      ],
      "metadata": {
        "id": "6BwmEnyh7NDe"
      }
    },
    {
      "cell_type": "markdown",
      "source": [
        "- Perform ZCA whitening of your images"
      ],
      "metadata": {
        "id": "_ixuUL5v7OKg"
      }
    },
    {
      "cell_type": "markdown",
      "source": [
        "- Augment data with random rotations, shifts, and flips"
      ],
      "metadata": {
        "id": "9FN9y08u7Q_G"
      }
    },
    {
      "cell_type": "code",
      "source": [
        "import numpy as np\n",
        "import os\n",
        "import cv2\n",
        "import tensorflow as tf\n",
        "from keras.preprocessing.image import ImageDataGenerator\n",
        "\n",
        "# Define paths to the dataset\n",
        "DATADIR = \"./datasets\"\n",
        "CATEGORIES = [\"adidas\", \"nike\"]\n",
        "\n",
        "datagen = ImageDataGenerator(featurewise_center= True, featurewise_std_normalization= True, zca_whitening= True, rotation_range= 50, width_shift_range= 0.5, height_shift_range= 0.5, horizontal_flip= True, rescale= 1./255, validation_split= 0.3)\n",
        "\n",
        "train = datagen.flow_from_directory('./train', target_size=(150,150),batch_size=20,class_mode='categorical', subset='training')\n",
        "test = datagen.flow_from_directory('./test', target_size=(150,150),batch_size=20,class_mode='categorical', subset='validation')\n",
        "\n",
        "\n",
        "# Create a baseline CNN model\n",
        "model = tf.keras.Sequential([\n",
        "    tf.keras.layers.Conv2D(32, (3,3), activation='relu', input_shape=(150, 150, 3)),\n",
        "#    tf.keras.layers.MaxPooling2D(2, 2),\n",
        "    tf.keras.layers.Conv2D(64, (3,3), activation='relu'),\n",
        "    tf.keras.layers.MaxPooling2D(2,2),\n",
        "    tf.keras.layers.Conv2D(128, (3,3), activation='relu'),\n",
        "#    tf.keras.layers.MaxPooling2D(2,2),\n",
        "    tf.keras.layers.Flatten(),\n",
        "    tf.keras.layers.Dense(1024, activation='relu'),\n",
        "    tf.keras.layers.Dense(512, activation='relu'),\n",
        "    tf.keras.layers.Dense(2, activation='softmax')\n",
        "])\n",
        "\n",
        "# Compile the model\n",
        "model.compile(optimizer='adam', loss='categorical_crossentropy', metrics=['accuracy'])\n",
        "\n",
        "# Train the model\n",
        "history = model.fit(train, batch_size=32, epochs=10, validation_data= test)\n",
        "\n",
        "# Evaluate the model on the test set\n",
        "test_loss, test_acc = model.evaluate(test, verbose=2)\n",
        "print(f\"Test accuracy: {test_acc}\")\n"
      ],
      "metadata": {
        "id": "8UiKCKVK2IAX"
      },
      "execution_count": null,
      "outputs": []
    },
    {
      "cell_type": "markdown",
      "source": [
        "- Save augmented image data to disk"
      ],
      "metadata": {
        "id": "wqPSDH677Tol"
      }
    },
    {
      "cell_type": "code",
      "source": [
        "import matplotlib.pyplot as plt\n",
        "\n",
        "augmented_images = train.next()\n",
        "\n",
        "for i in range(0, 9):\n",
        "    image = augmented_images[0][i]\n",
        "    label = augmented_images[1][i]\n",
        "    plt.subplot(3, 3, i+1)\n",
        "    plt.imshow(image)\n",
        "    plt.title(f\"Label: {CATEGORIES[np.argmax(label)]}\")\n",
        "    plt.axis('off')\n",
        "plt.show()"
      ],
      "metadata": {
        "id": "yyDmZnGYrAyX"
      },
      "execution_count": null,
      "outputs": []
    },
    {
      "cell_type": "code",
      "source": [
        "train = datagen.flow_from_directory('./train', target_size=(150,150),batch_size=20,class_mode='categorical', subset='training', save_to_dir= '../aug-train', save_prefix= 'jpg')\n",
        "test = datagen.flow_from_directory('./test', target_size=(150,150),batch_size=20,class_mode='categorical', subset='validation', save_to_dir= '../aug-val', save_prefix= 'jpg')\n",
        "\n",
        "for _ in range(int(np.ceil(train.classes.__len__()/train.batch_size))):\n",
        "    x = train.next()\n",
        "\n",
        "for _ in range(int(np.ceil(test.classes.__len__()/test.batch_size))):\n",
        "    x = test.next()\n"
      ],
      "metadata": {
        "colab": {
          "base_uri": "https://localhost:8080/"
        },
        "id": "2r9IL-W6wqPB",
        "outputId": "2ad16b3a-d23d-46e2-e1e5-baf4f90354ab"
      },
      "execution_count": null,
      "outputs": [
        {
          "output_type": "stream",
          "name": "stdout",
          "text": [
            "Found 460 images belonging to 2 classes.\n",
            "Found 0 images belonging to 2 classes.\n"
          ]
        }
      ]
    },
    {
      "cell_type": "markdown",
      "source": [
        "- Develop a test harness to develop a robust evaluation of a model and establish a baseline of performance for a classification task"
      ],
      "metadata": {
        "id": "4zKWT6A27W1G"
      }
    },
    {
      "cell_type": "markdown",
      "source": [
        "- Explore extensions to a baseline model to improve learning and model capacity."
      ],
      "metadata": {
        "id": "u7E2VoIE7ZmN"
      }
    },
    {
      "cell_type": "markdown",
      "source": [
        "- Develop a finalized model, evaluate the performance of the final model, and use it to make predictions on new images."
      ],
      "metadata": {
        "id": "s2EEoijh7cfV"
      }
    },
    {
      "cell_type": "markdown",
      "source": [
        "4. Submit the link to your Google Colab (make sure that it is accessible to me) and the link to your dataset/s\n",
        "\n",
        "Link Google Colab: https://colab.research.google.com/drive/1z9shGZxqS5miZZQMCWbv5POHjg-DlDj3#scrollTo=J7u1vJjlNA8w\n",
        "\n",
        "Link of my Dataset: https://www.kaggle.com/datasets/shaunthesheep/microsoft-catsvsdogs-dataset"
      ],
      "metadata": {
        "id": "J7u1vJjlNA8w"
      }
    },
    {
      "cell_type": "markdown",
      "source": [
        "**Conclusion**\n",
        "\n",
        "In conclusion convolutional neural networks, or CNNs, are an effective tool for image recognition and classification applications. It is sometimes advantageous to preprocess photos using methods like ZCA whitening before feeding them into a CNN in order to reduce input redundancy and enhance network performance. Adding random rotations, shifts, and flips to the training dataset can also help the network become more resilient to input changes and better able to generalize to new data. CNNs may achieve high accuracy and significantly improve a variety of applications, from autonomous driving to medical imaging, by utilizing these approaches.\n"
      ],
      "metadata": {
        "id": "SqnfQhAo7fTs"
      }
    }
  ]
}